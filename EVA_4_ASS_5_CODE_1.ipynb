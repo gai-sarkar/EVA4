{
  "nbformat": 4,
  "nbformat_minor": 0,
  "metadata": {
    "colab": {
      "name": "EVA-4/ASS-5/CODE-1.ipynb",
      "provenance": [],
      "authorship_tag": "ABX9TyOwPtWgkoB6vnCYHXixQUBF",
      "include_colab_link": true
    },
    "kernelspec": {
      "name": "python3",
      "display_name": "Python 3"
    }
  },
  "cells": [
    {
      "cell_type": "markdown",
      "metadata": {
        "id": "view-in-github",
        "colab_type": "text"
      },
      "source": [
        "<a href=\"https://colab.research.google.com/github/gai-sarkar/EVA4/blob/master/EVA_4_ASS_5_CODE_1.ipynb\" target=\"_parent\"><img src=\"https://colab.research.google.com/assets/colab-badge.svg\" alt=\"Open In Colab\"/></a>"
      ]
    },
    {
      "cell_type": "markdown",
      "metadata": {
        "id": "nyLMcRHzEEAl",
        "colab_type": "text"
      },
      "source": [
        "##Chim Chim"
      ]
    },
    {
      "cell_type": "code",
      "metadata": {
        "id": "MNswpnmI9nl9",
        "colab_type": "code",
        "colab": {}
      },
      "source": [
        "#ChimChim"
      ],
      "execution_count": 0,
      "outputs": []
    }
  ]
}